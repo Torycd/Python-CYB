{
 "cells": [
  {
   "cell_type": "markdown",
   "metadata": {},
   "source": [
    "Lets Get Started with Python full fledge"
   ]
  },
  {
   "cell_type": "code",
   "execution_count": null,
   "metadata": {},
   "outputs": [],
   "source": [
    "x = int(input(\"Please enter an integer: \"))\n",
    "if x < 0:\n",
    "    x = 0\n",
    "    print(\"negative cahnged to zero\")\n",
    "elif x == 0 :\n",
    "    print(\"zero\")\n",
    "elif x == 1:\n",
    "    print('Single')\n",
    "else:\n",
    "    print(\"more\")            "
   ]
  },
  {
   "cell_type": "markdown",
   "metadata": {},
   "source": [
    "For Statement"
   ]
  },
  {
   "cell_type": "code",
   "execution_count": null,
   "metadata": {},
   "outputs": [],
   "source": [
    "words = [\"cat\", \"window\", \"defenestrate\"]\n",
    "for w in words:\n",
    "    print(w, len(w))\n",
    "\n",
    "for w in words[:]:\n",
    "    if len(w) > 6:\n",
    "        words.insert(0, w)\n",
    "print(words)     "
   ]
  },
  {
   "cell_type": "code",
   "execution_count": null,
   "metadata": {},
   "outputs": [],
   "source": [
    "for n in range(2, 1000):\n",
    "    for x in range(2, n):\n",
    "        if n % x == 0:\n",
    "            print(n, \"equals\", x, \"*\", n/x)\n",
    "            break\n",
    "    else:\n",
    "        print(n, \"is a prime number\")    \n"
   ]
  },
  {
   "cell_type": "code",
   "execution_count": null,
   "metadata": {},
   "outputs": [],
   "source": [
    "# This is a fibonacci series\n",
    "# it starts with two value 0 and 1 and it returns the sum of both\n",
    "# \n",
    "\n",
    "def fib(n):\n",
    "    a, b = 0, 1\n",
    "    while a < n:\n",
    "        print(a, end= \" \")\n",
    "        a, b = b, a+b\n",
    "    print()\n",
    "\n",
    "fib(2000)        "
   ]
  },
  {
   "cell_type": "code",
   "execution_count": null,
   "metadata": {},
   "outputs": [
    {
     "data": {
      "text/plain": [
       "50"
      ]
     },
     "execution_count": 2,
     "metadata": {},
     "output_type": "execute_result"
    }
   ],
   "source": [
    "import math\n",
    "math.ceil(49.1)"
   ]
  },
  {
   "cell_type": "code",
   "execution_count": 5,
   "metadata": {},
   "outputs": [
    {
     "name": "stdout",
     "output_type": "stream",
     "text": [
      "allowed\n",
      "True\n"
     ]
    }
   ],
   "source": [
    "# Assign `max_logins` to the value 3\n",
    "\n",
    "max_logins = 3\n",
    "\n",
    "# Assign `login_attempts` to the value 2\n",
    "\n",
    "login_attempts = 2\n",
    "\n",
    "# Determine whether the current number of login attempts a user has made is less than or equal to the maximum number of login attempts allowed,\n",
    "# and display the resulting Boolean value\n",
    "if login_attempts <= max_logins:\n",
    "    print(\"allowed\")\n",
    "else:\n",
    "    print(\"not allowed\")\n",
    "\n",
    "\n",
    "print(login_attempts <= max_logins)    "
   ]
  },
  {
   "cell_type": "code",
   "execution_count": 6,
   "metadata": {},
   "outputs": [
    {
     "name": "stdout",
     "output_type": "stream",
     "text": [
      "<class 'float'>\n"
     ]
    }
   ],
   "source": [
    "num = 15.0\n",
    "\n",
    "num_type = type(num)\n",
    "print(num_type)"
   ]
  },
  {
   "cell_type": "code",
   "execution_count": 7,
   "metadata": {},
   "outputs": [
    {
     "name": "stdout",
     "output_type": "stream",
     "text": [
      "no update needed\n"
     ]
    }
   ],
   "source": [
    "# Assign a variable named `system` to a specific operating system, represented as a string\n",
    "# This variable indicates which operating system is running\n",
    "# Feel free to run this cell multiple times; each time try assigning `system` to different values (\"OS 1\", \"OS 2\", \"OS 3\") and observe the result\n",
    "\n",
    "system = \"OS 2\"\n",
    "\n",
    "# If OS 2 is running, then display a \"no update needed\" message\n",
    "\n",
    "if system == \"OS 2\":\n",
    "    print(\"no update needed\")\n",
    "    "
   ]
  },
  {
   "cell_type": "code",
   "execution_count": 9,
   "metadata": {},
   "outputs": [
    {
     "name": "stdout",
     "output_type": "stream",
     "text": [
      "no update needed\n"
     ]
    }
   ],
   "source": [
    "# Assign `system` to a specific operating system\n",
    "# This variable represents which operating system is running\n",
    "# Feel free to run this cell multiple times; each time try assigning `system` to different values (\"OS 1\", \"OS 2\", \"OS 3\") and observe the result\n",
    "\n",
    "system = \"OS 2\"\n",
    "\n",
    "# If OS 2 is running, then display a \"no update needed\" message\n",
    "\n",
    "if system == \"OS 2\":\n",
    "    print(\"no update needed\")\n",
    "    "
   ]
  },
  {
   "cell_type": "code",
   "execution_count": 10,
   "metadata": {},
   "outputs": [
    {
     "name": "stdout",
     "output_type": "stream",
     "text": [
      "update needed\n"
     ]
    }
   ],
   "source": [
    "# Assign `system` to a specific operating system\n",
    "# This variable represents which operating system is running\n",
    "\n",
    "system = \"OS 1\"\n",
    "\n",
    "# If OS 2 is running, then display a \"no update needed\" message\n",
    "# Otherwise, display a \"update needed\" message\n",
    "\n",
    "if system == \"OS 2\":\n",
    "    print(\"no update needed\")\n",
    "else:\n",
    "    print(\"update needed\")"
   ]
  },
  {
   "cell_type": "code",
   "execution_count": 14,
   "metadata": {},
   "outputs": [
    {
     "name": "stdout",
     "output_type": "stream",
     "text": [
      "update needed\n"
     ]
    }
   ],
   "source": [
    "# Assign `system` to a specific operating system\n",
    "# This variable represents which operating system is running\n",
    "\n",
    "system = \"OS 1\"\n",
    "\n",
    "# If OS 2 is running, then display a \"no update needed\" message\n",
    "# Otherwise if OS 1 is running, display a \"update needed\" message\n",
    "# Otherwise if OS 3 is running, display a \"update needed\" message\n",
    "\n",
    "if system == \"OS 2\":\n",
    "    print(\"no update needed\")\n",
    "elif system == \"OS 1\" or \"OS 3\":\n",
    "    print(\"update needed\")\n"
   ]
  },
  {
   "cell_type": "code",
   "execution_count": 15,
   "metadata": {},
   "outputs": [
    {
     "name": "stdout",
     "output_type": "stream",
     "text": [
      "This user has access to this device.\n"
     ]
    }
   ],
   "source": [
    "# Assign `approved_user1` and `approved_user2` to usernames of approved users\n",
    "\n",
    "approved_user1 = \"elarson\"\n",
    "approved_user2 = \"bmoreno\"\n",
    "\n",
    "# Assign `username` to the username of a specific user trying to log in\n",
    "\n",
    "username = \"bmoreno\"\n",
    "\n",
    "# If the user trying to log in is among the approved users, then display a message that they are approved to access this device\n",
    "# Otherwise, display a message that they do not have access to this device\n",
    "\n",
    "if username == approved_user1 or approved_user2:\n",
    "    print(\"This user has access to this device.\")\n",
    "else:\n",
    "    print(\"This user does not have access to this device.\")"
   ]
  },
  {
   "cell_type": "code",
   "execution_count": 16,
   "metadata": {},
   "outputs": [
    {
     "name": "stdout",
     "output_type": "stream",
     "text": [
      "This user has access to this device.\n"
     ]
    }
   ],
   "source": [
    "# Assign `approved_list` to a list of approved usernames\n",
    "\n",
    "approved_list = [\"elarson\", \"bmoreno\", \"tshah\", \"sgilmore\", \"eraab\"]\n",
    "\n",
    "# Assign `username` to the username of a specific user trying to log in\n",
    "\n",
    "username = \"bmoreno\"\n",
    "\n",
    "# If the user trying to log in is among the approved users, then display a message that they are approved to access this device\n",
    "# Otherwise, display a message that they do not have access to this device\n",
    "\n",
    "if username in approved_list:\n",
    "    print(\"This user has access to this device.\")\n",
    "else:\n",
    "    print(\"This user does not have access to this device.\")\n",
    "    "
   ]
  },
  {
   "cell_type": "code",
   "execution_count": 17,
   "metadata": {},
   "outputs": [
    {
     "name": "stdout",
     "output_type": "stream",
     "text": [
      "Login attempt made during organization hours.\n"
     ]
    }
   ],
   "source": [
    "# Assign `organization_hours` to a Boolean value that represents whether the user is trying to log in during organization hours\n",
    "\n",
    "organization_hours = True\n",
    "\n",
    "# If the entered `organization_hours` has a value of True, then display \"Login attempt made during organization hours.\"\n",
    "# Otherwise, display \"Login attempt made outside of organization hours.\"\n",
    "\n",
    "if organization_hours:\n",
    "   print(\"Login attempt made during organization hours.\")\n",
    "else:\n",
    "   print(\"Login attempt made outside of organization hours.\")\n",
    "   "
   ]
  },
  {
   "cell_type": "code",
   "execution_count": 32,
   "metadata": {},
   "outputs": [
    {
     "name": "stdout",
     "output_type": "stream",
     "text": [
      "connection could not be established.\n",
      "connection could not be established.\n",
      "connection could not be established.\n"
     ]
    }
   ],
   "source": [
    "# Assign `connection_attempts` to an initial value of 0, to keep track of how many times the user has tried to connect to the network\n",
    "\n",
    "connection_attempts = 0\n",
    "\n",
    "# Iterative statement using `while` and `connection_attempts`\n",
    "# Display \"Connection could not be established.\" every iteration, until connection_attempts reaches a specified number\n",
    "\n",
    "while connection_attempts < 3:\n",
    "    print(\"connection could not be established.\")\n",
    "\n",
    "    # Update `connection_attempts` (increment it by 1 at the end of each iteration) \n",
    "    connection_attempts = connection_attempts + 1"
   ]
  },
  {
   "cell_type": "code",
   "execution_count": 33,
   "metadata": {},
   "outputs": [
    {
     "name": "stdout",
     "output_type": "stream",
     "text": [
      "192.168.142.245\n",
      "192.168.109.50\n",
      "192.168.86.232\n",
      "192.168.131.147\n",
      "192.168.205.12\n",
      "192.168.200.48\n"
     ]
    }
   ],
   "source": [
    "# Assign `ip_addresses` to a list of IP addresses from which users have tried to log in\n",
    "\n",
    "ip_addresses = [\"192.168.142.245\", \"192.168.109.50\", \"192.168.86.232\", \"192.168.131.147\",\n",
    "                \"192.168.205.12\", \"192.168.200.48\"]\n",
    "\n",
    "# For loop that displays the elements of `ip_addresses` one at a time\n",
    "\n",
    "for i in ip_addresses:\n",
    "    print(i)"
   ]
  },
  {
   "cell_type": "code",
   "execution_count": 34,
   "metadata": {},
   "outputs": [
    {
     "name": "stdout",
     "output_type": "stream",
     "text": [
      "IP address is not allowed\n",
      "IP address is not allowed\n",
      "IP address is allowed\n",
      "IP address is not allowed\n",
      "IP address is allowed\n",
      "IP address is not allowed\n"
     ]
    }
   ],
   "source": [
    "# Assign `allow_list` to a list of IP addresses that are allowed to log in\n",
    "\n",
    "allow_list = [\"192.168.243.140\", \"192.168.205.12\", \"192.168.151.162\", \"192.168.178.71\", \n",
    "              \"192.168.86.232\", \"192.168.3.24\", \"192.168.170.243\", \"192.168.119.173\"]\n",
    "\n",
    "# Assign `ip_addresses` to a list of IP addresses from which users have tried to log in\n",
    "\n",
    "ip_addresses = [\"192.168.142.245\", \"192.168.109.50\", \"192.168.86.232\", \"192.168.131.147\",\n",
    "                \"192.168.205.12\", \"192.168.200.48\"]\n",
    "\n",
    "# For each IP address in the list of IP addresses from which users have tried to log in, \n",
    "# If it is among the allowed addresses, then display “IP address is allowed”\n",
    "# Otherwise, display “IP address is not allowed”\n",
    "\n",
    "for i in ip_addresses:\n",
    "\tif i in allow_list:\n",
    "\t\tprint(\"IP address is allowed\")\n",
    "\telse:\n",
    "\t\tprint(\"IP address is not allowed\")"
   ]
  },
  {
   "cell_type": "code",
   "execution_count": 35,
   "metadata": {},
   "outputs": [
    {
     "name": "stdout",
     "output_type": "stream",
     "text": [
      "IP address is not allowed. Further investigation of login activity required\n"
     ]
    }
   ],
   "source": [
    "# Assign `allow_list` to a list of IP addresses that are allowed to log in\n",
    "\n",
    "allow_list = [\"192.168.243.140\", \"192.168.205.12\", \"192.168.151.162\", \"192.168.178.71\", \n",
    "              \"192.168.86.232\", \"192.168.3.24\", \"192.168.170.243\", \"192.168.119.173\"]\n",
    "\n",
    "# Assign `ip_addresses` to a list of IP addresses from which users have tried to log in\n",
    "\n",
    "ip_addresses = [\"192.168.142.245\", \"192.168.109.50\", \"192.168.86.232\", \"192.168.131.147\",\n",
    "                \"192.168.205.12\", \"192.168.200.48\"]\n",
    "\n",
    "# For each IP address in the list of IP addresses from which users have tried to log in, \n",
    "# If it is among the allowed addresses, then display “IP address is allowed”\n",
    "# Otherwise, display “IP address is not allowed”\n",
    "               \n",
    "for i in ip_addresses:\n",
    "\tif i in allow_list:\n",
    "\t\tprint(\"IP address is allowed\")\n",
    "\telse:\n",
    "\t\tprint(\"IP address is not allowed. Further investigation of login activity required\")\n",
    "\t\tbreak "
   ]
  },
  {
   "cell_type": "code",
   "execution_count": 36,
   "metadata": {},
   "outputs": [
    {
     "name": "stdout",
     "output_type": "stream",
     "text": [
      "5000\n",
      "5005\n",
      "5010\n",
      "5015\n",
      "5020\n",
      "5025\n",
      "5030\n",
      "5035\n",
      "5040\n",
      "5045\n",
      "5050\n",
      "5055\n",
      "5060\n",
      "5065\n",
      "5070\n",
      "5075\n",
      "5080\n",
      "5085\n",
      "5090\n",
      "5095\n",
      "5100\n",
      "Only 10 valid employee ids remaining\n",
      "5105\n",
      "5110\n",
      "5115\n",
      "5120\n",
      "5125\n",
      "5130\n",
      "5135\n",
      "5140\n",
      "5145\n",
      "5150\n"
     ]
    }
   ],
   "source": [
    "# Assign the loop variable `i` to an initial value of 5000\n",
    "\n",
    "i = 5000\n",
    "\n",
    "# While loop that generates unique employee IDs for the Sales department by iterating through numbers\n",
    "# and displays each ID created\n",
    "# This loop displays \"Only 10 valid employee ids remaining\" once `i` reaches 5100\n",
    "\n",
    "while i <= 5150: \n",
    "    print(i)\n",
    "    if i == 5100:\n",
    "        print(\"Only 10 valid employee ids remaining\")\n",
    "    i = i + 5"
   ]
  },
  {
   "cell_type": "code",
   "execution_count": 37,
   "metadata": {},
   "outputs": [
    {
     "name": "stdout",
     "output_type": "stream",
     "text": [
      "welcome! you're logged in.\n"
     ]
    }
   ],
   "source": [
    "def greet_employee():\n",
    "    print(\"welcome! you're logged in.\")\n",
    "\n",
    "greet_employee()    "
   ]
  },
  {
   "cell_type": "code",
   "execution_count": 38,
   "metadata": {},
   "outputs": [
    {
     "name": "stdout",
     "output_type": "stream",
     "text": [
      "welcome Victory! you're logged in.\n"
     ]
    }
   ],
   "source": [
    "def greet_employee(name):\n",
    "    print(f\"welcome {name}! you're logged in.\")\n",
    "\n",
    "greet_employee(\"Victory\")  "
   ]
  },
  {
   "cell_type": "code",
   "execution_count": 39,
   "metadata": {},
   "outputs": [
    {
     "name": "stdout",
     "output_type": "stream",
     "text": [
      "9\n"
     ]
    }
   ],
   "source": [
    "print(max(2,4,6,1,9,4,6,))"
   ]
  },
  {
   "cell_type": "code",
   "execution_count": 41,
   "metadata": {},
   "outputs": [
    {
     "name": "stdout",
     "output_type": "stream",
     "text": [
      "[85, 88, 90, 91, 92, 99, 101, 105, 108, 119, 223, 264]\n"
     ]
    }
   ],
   "source": [
    "# Assign `failed_login_list` to the list of the number of failed login attempts per month\n",
    "\n",
    "failed_login_list = [119, 101, 99, 91, 92, 105, 108, 85, 88, 90, 264, 223]\n",
    "\n",
    "# Sort `failed_login_list` in ascending numerical order and display the result\n",
    "\n",
    "print(sorted(failed_login_list))"
   ]
  },
  {
   "cell_type": "code",
   "execution_count": null,
   "metadata": {},
   "outputs": [],
   "source": []
  }
 ],
 "metadata": {
  "kernelspec": {
   "display_name": "Python 3",
   "language": "python",
   "name": "python3"
  },
  "language_info": {
   "codemirror_mode": {
    "name": "ipython",
    "version": 3
   },
   "file_extension": ".py",
   "mimetype": "text/x-python",
   "name": "python",
   "nbconvert_exporter": "python",
   "pygments_lexer": "ipython3",
   "version": "3.9.5"
  }
 },
 "nbformat": 4,
 "nbformat_minor": 2
}
