{
 "cells": [
  {
   "cell_type": "markdown",
   "metadata": {},
   "source": [
    "Lets Get Started with Python full fledge"
   ]
  },
  {
   "cell_type": "code",
   "execution_count": 7,
   "metadata": {},
   "outputs": [
    {
     "name": "stdout",
     "output_type": "stream",
     "text": [
      "more\n"
     ]
    }
   ],
   "source": [
    "x = int(input(\"Please enter an integer: \"))\n",
    "if x < 0:\n",
    "    x = 0\n",
    "    print(\"negative cahnged to zero\")\n",
    "elif x == 0 :\n",
    "    print(\"zero\")\n",
    "elif x == 1:\n",
    "    print('Single')\n",
    "else:\n",
    "    print(\"more\")            "
   ]
  },
  {
   "cell_type": "markdown",
   "metadata": {},
   "source": [
    "For Statement"
   ]
  },
  {
   "cell_type": "code",
   "execution_count": 8,
   "metadata": {},
   "outputs": [
    {
     "name": "stdout",
     "output_type": "stream",
     "text": [
      "cat 3\n",
      "window 6\n",
      "defenestrate 12\n",
      "['defenestrate', 'cat', 'window', 'defenestrate']\n"
     ]
    }
   ],
   "source": [
    "words = [\"cat\", \"window\", \"defenestrate\"]\n",
    "for w in words:\n",
    "    print(w, len(w))\n",
    "\n",
    "for w in words[:]:\n",
    "    if len(w) > 6:\n",
    "        words.insert(0, w)\n",
    "print(words)     "
   ]
  },
  {
   "cell_type": "code",
   "execution_count": null,
   "metadata": {},
   "outputs": [],
   "source": [
    "for n in range(1, 1000):\n",
    "    for x in range(1, n):\n",
    "        if n % x == 0:\n",
    "            print(n, equals)\n"
   ]
  }
 ],
 "metadata": {
  "kernelspec": {
   "display_name": "Python 3",
   "language": "python",
   "name": "python3"
  },
  "language_info": {
   "codemirror_mode": {
    "name": "ipython",
    "version": 3
   },
   "file_extension": ".py",
   "mimetype": "text/x-python",
   "name": "python",
   "nbconvert_exporter": "python",
   "pygments_lexer": "ipython3",
   "version": "3.9.5"
  }
 },
 "nbformat": 4,
 "nbformat_minor": 2
}
